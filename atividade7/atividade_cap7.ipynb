{
 "cells": [
  {
   "cell_type": "markdown",
   "metadata": {
    "collapsed": false
   },
   "source": [
    "<span style='font-size:xx-large'>Atividade Cap. 07</span>\n"
   ]
  },
  {
   "cell_type": "markdown",
   "metadata": {
    "collapsed": false
   },
   "source": [
    "**1. Qual é a diferença entre aleatoriedades estatísticas e imprevisibilidade?**\n",
    "\n",
    "A preocupação na geração de uma sequência de números supostamente aleatórios tem sido de que a sequência de números seja aleatória em algum sentido estatístico bem definido. Existem dois critérios para isso, sendo a distribuição uniforme: a distribuição dos bits na sequência deve ser uniforme; ou seja, a frequência de ocorrência de cada um dos uns e zeros deve ser aproximadamente a mesma. E a independência: nenhum valor na sequência pode ser deduzido a partir dos outros.\n",
    "\n",
    "Já a imprevisibilidade, requisito não é tanto que a sequência de números seja estatisticamente aleatória, mas que os membros sucessivos dela sejam imprevisíveis. Com “verdadeiras” sequências aleatórias, cada número é estatisticamente independente dos outros na sequência e, portanto, imprevisíveis.\n",
    "\n",
    "Portanto, a aleatoriedade estatística pode ser compreendida e descrita por meio de técnicas estatísticas, enquanto a imprevisibilidade está relacionada a eventos ou resultados que não podem ser previstos, mesmo que sejam determinados por processos aleatórios.\n",
    "\n",
    "**2. Liste considerações de projeto importantes para uma cifra de fluxo.**\n",
    "\n",
    "Segurança Criptográfica, Tamanho da Chave e Geração de Números Pseudorrandômicos\n",
    "\n",
    "**3. Por que não é desejável reutilizar uma chave de cifra de fluxo?**\n",
    "\n",
    "Se dois textos claros forem encriptados com a mesma chave usando uma cifra de fluxo, então a criptoanálise normalmente é muito  imples. Se os dois fluxos de texto cifrado passaram por uma operação XOR, o resultado é o XOR dos textos claros originais. Se os textos claros forem strings de texto, números de cartão de crédito ou outros fluxos de bytes com propriedades conhecidas, então a criptoanálise poderá ter sucesso.\n",
    "\n",
    "**4. Que operações primitivas são usadas no RC4?**\n",
    "\n",
    "O algoritmo é baseado no uso de uma permutação aleatória. Uma chave de tamanho variável de 1 a 256 bytes é usada para inicializar um vetor de estado S de 256 bytes, com elementos S\\[0\\], S\\[1\\], ..., S\\[255\\]. Em todos os momentos, S contém uma permutação de todos os números de 8 bits de 0 a 255. Para a encriptação e a decriptação, um byte k é gerado a partir de S selecionando uma das 255 entradas de uma forma sistemática. À medida que cada valor de k é gerado, as entradas em S são mais uma vez permutadas.\n",
    "\n",
    "Para encriptar, faça o XOR do valor k com o próximo byte do texto claro. Para decriptar, faça o XOR do valor k com o próximo byte do texto cifrado.\n",
    "\n",
    "**5. Se apanharmos um algoritmo de congruência linear com um componente aditivo de 0:**\n",
    "\n",
    "**Xn\\+1 = \\(aXn\\) mod m**\n",
    "\n",
    "**então, podemos mostrar que, se m é primo, e se determinado valor de a produz o período máximo de m − 1, então a^k também produzirá o período máximo, desde que k seja menor que m e que m − 1 não seja divisível por k. Demonstre isso usando X0 = 1 e m = 31, e produzindo as sequências para ak = 3, 3², 3³ e 3⁴.**\n",
    "\n",
    "k = 1 \\(a^1 = 3\\):\n",
    "\n",
    "X0 = 1\n",
    "\n",
    "X1 = \\(3 \\* 1\\) mod 31 = 3\n",
    "\n",
    "X2 = \\(3 \\* 3\\) mod 31 = 9\n",
    "\n",
    "X3 = \\(3 \\* 9\\) mod 31 = 27\n",
    "\n",
    "X4 = \\(3 \\* 27\\) mod 31 = 19\n",
    "\n",
    "X5 = \\(3 \\* 19\\) mod 31 = 26\n",
    "\n",
    "X6 = \\(3 \\* 26\\) mod 31 = 17\n",
    "\n",
    "X7 = \\(3 \\* 17\\) mod 31 = 20\n",
    "\n",
    "X8 = \\(3 \\* 20\\) mod 31 = 25\n",
    "\n",
    "X9 = \\(3 \\* 25\\) mod 31 = 11\n",
    "\n",
    "X10 = \\(3 \\* 11\\) mod 31 = 4\n",
    "\n",
    "X11 = \\(3 \\* 4\\) mod 31 = 12\n",
    "\n",
    "_X12 = \\(3 \\* 12\\) mod 31 = 1_\n",
    "\n",
    "O período dessa sequência é 12.\n",
    "\n",
    "---\n",
    "\n",
    "k = 2 \\(a^2 = 9\\):\n",
    "\n",
    "X0 = 1\n",
    "\n",
    "X1 = \\(9 \\* 1\\) mod 31 = 9\n",
    "\n",
    "X2 = \\(9 \\* 9\\) mod 31 = 19\n",
    "\n",
    "X3 = \\(9 \\* 19\\) mod 31 = 25\n",
    "\n",
    "X4 = \\(9 \\* 25\\) mod 31 = 12\n",
    "\n",
    "X5 = \\(9 \\* 12\\) mod 31 = 4\n",
    "\n",
    "X6 = \\(9 \\* 4\\) mod 31 = 5\n",
    "\n",
    "X7 = \\(9 \\* 5\\) mod 31 = 8\n",
    "\n",
    "X8 = \\(9 \\* 8\\) mod 31 = 7\n",
    "\n",
    "X9 = \\(9 \\* 7\\) mod 31 = 28\n",
    "\n",
    "X10 = \\(9 \\* 28\\) mod 31 = 22\n",
    "\n",
    "X11 = \\(9 \\* 22\\) mod 31 = 20\n",
    "\n",
    "X12 = \\(9 \\* 20\\) mod 31 = 26\n",
    "\n",
    "X13 = \\(9 \\* 26\\) mod 31 = 17\n",
    "\n",
    "X14 = \\(9 \\* 17\\) mod 31 = 10\n",
    "\n",
    "X15 = \\(9 \\* 10\\) mod 31 = 30\n",
    "\n",
    "X16 = \\(9 \\* 30\\) mod 31 = 16\n",
    "\n",
    "X17 = \\(9 \\* 16\\) mod 31 = 23\n",
    "\n",
    "X18 = \\(9 \\* 23\\) mod 31 = 14\n",
    "\n",
    "X19 = \\(9 \\* 14\\) mod 31 = 3\n",
    "\n",
    "X20 = \\(9 \\* 3\\) mod 31 = 27\n",
    "\n",
    "_X21 = \\(9 \\* 27\\) mod 31 = 1_\n",
    "\n",
    "O período dessa sequência é 21.\n",
    "\n",
    "---\n",
    "\n",
    "k = 3 \\(a^3 = 27\\):\n",
    "\n",
    "X0 = 1\n",
    "\n",
    "X1 = \\(27 \\* 1\\) mod 31 = 27\n",
    "\n",
    "X2 = \\(27 \\* 27\\) mod 31 = 23\n",
    "\n",
    "X3 = \\(27 \\* 23\\) mod 31 = 4\n",
    "\n",
    "X4 = \\(27 \\* 4\\) mod 31 = 19\n",
    "\n",
    "X5 = \\(27 \\* 19\\) mod 31 = 8\n",
    "\n",
    "X6 = \\(27 \\* 8\\) mod 31 = 7\n",
    "\n",
    "X7 = \\(27 \\* 7\\) mod 31 = 28\n",
    "\n",
    "X8 = \\(27 \\* 28\\) mod 31 = 22\n",
    "\n",
    "X9 = \\(27 \\* 22\\) mod 31 = 10\n",
    "\n",
    "X10 = \\(27 \\* 10\\) mod 31 = 30\n",
    "\n",
    "X11 = \\(27 \\* 30\\) mod 31 = 16\n",
    "\n",
    "X12 = \\(27 \\* 16\\) mod 31 = 14\n",
    "\n",
    "X13 = \\(27 \\* 14\\) mod 31 = 3\n",
    "\n",
    "X14 = \\(27 \\* 3\\) mod 31 = 13\n",
    "\n",
    "X15 = \\(27 \\* 13\\) mod 31 = 29\n",
    "\n",
    "X16 = \\(27 \\* 29\\) mod 31 = 25\n",
    "\n",
    "_X17 = \\(27 \\* 25\\) mod 31 = 28_\n",
    "\n",
    "O período dessa sequência é 17.\n",
    "\n",
    "---\n",
    "\n",
    "k = 4 \\(a^4 = 81\\):\n",
    "\n",
    "X0 = 1\n",
    "\n",
    "X1 = \\(81 \\* 1\\) mod 31 = 19\n",
    "\n",
    "X2 = \\(81 \\* 19\\) mod 31 = 12\n",
    "\n",
    "X3 = \\(81 \\* 12\\) mod 31 = 5\n",
    "\n",
    "X4 = \\(81 \\* 5\\) mod 31 = 8\n",
    "\n",
    "X5 = \\(81 \\* 8\\) mod 31 = 25\n",
    "\n",
    "X6 = \\(81 \\* 25\\) mod 31 = 11\n",
    "\n",
    "X7 = \\(81 \\* 11\\) mod 31 = 22\n",
    "\n",
    "X8 = \\(81 \\* 22\\) mod 31 = 10\n",
    "\n",
    "X9 = \\(81 \\* 10\\) mod 31 = 30\n",
    "\n",
    "X10 = \\(81 \\* 30\\) mod 31 = 26\n",
    "\n",
    "X11 = \\(81 \\* 26\\) mod 31 = 17\n",
    "\n",
    "X12 = \\(81 \\* 17\\) mod 31 = 20\n",
    "\n",
    "_X13 = \\(81 \\* 20\\) mod 31 = 1_ \n",
    "\n",
    "O período dessa sequência é 13.\n",
    "\n",
    "**6. \\(a\\) Qual é o período máximo que pode ser obtido do seguinte gerador?**\n",
    "\n",
    "**Xn\\+1 = \\(aXn\\) mod 2⁴**\n",
    "\n",
    "O valor de 2^4 é 16, então o período máximo será 15, porque o gerador produzirá 15 números distintos antes de começar a se repetir.\n",
    "\n",
    "**\\(b\\) Qual deverá ser o valor de a?**\n",
    "\n",
    "O valor de a deve ser um número primo relativamente pequeno.\n",
    "\n",
    "\\#O valor de a deve ser um número primo relativo a 16 para que o período máximo de 16 seja alcançado. Isso significa que a e 16 não podem ter fatores primos em comum, exceto 1. Por exemplo, a = 3, 5, 7, 11, ou 13 seriam valores adequados para obter o período máximo.\n",
    "\n",
    "**\\(c\\) Que restrições são exigidas na semente?**\n",
    "\n",
    "A semente precisa estar entre 0 &lt;= 0 X0 &lt; m. Ou seja,  A restrição para a semente é que ela deve ser um número inteiro entre 0 e 15 \\(inclusive\\) para garantir a geração de números aleatórios dentro do intervalo desejado\n",
    "\n",
    "**7. Que valor de chave RC4 deixará S inalterado durante a inicialização? Ou seja, após a permutação inicial de S, as entradas de S serão quais aos valores de 0 a 255 na ordem crescente.**\n",
    "\n",
    "Para que o vetor S permaneça inalterado após a inicialização da chave no algoritmo RC4, é necessário que a chave seja uma sequência de bytes que seja uma permutação dos valores de 0 a 255 em ordem crescente. \n",
    "\n"
   ]
  },
  {
   "cell_type": "markdown",
   "metadata": {
    "collapsed": false
   },
   "source": [
    "**8. O algoritmo Blum Blum Shub é baseado na teoria dos resíduos quadráticos e utiliza três números inteiros para realizar os cálculos: p, q e s.**\n",
    "\n",
    "**\\(a\\) Escolha dois números primos grandes p e q, onde p e q sejam congruentes a 3 mod 4 e não tenham fatores primos comuns. Por exemplo, você pode escolher p = 499 e q = 503.**\n",
    "\n",
    "**\\(b\\) Calcule n = p ∗ q. Neste caso, n seria igual a 499 ∗ 503 = 250997.**\n",
    "\n",
    "**\\(c\\) Escolha um número inteiro s entre 1 e n − 1 que seja co\\-primo com n. Por exemplo, você pode escolher s = 17.**\n",
    "\n",
    "**\\(d\\) Calcule o valor inicial x0 = \\(s^2\\) mod n. Neste caso, x0 seria igual a \\(172\\) mod 250997 = 289.**\n",
    "\n",
    "**\\(e\\) Agora, vamos gerar uma sequência de números aleatórios usando o algoritmo Blum Blum Shub. Para gerar cada número da sequência, use a seguinte fórmula: xi = \\(2²i−1\\) mod n.**\n",
    "\n",
    "**\\(f\\) Execute a fórmula várias vezes para gerar uma sequência de números aleatórios. Por exemplo, você pode executar a fórmula 10 vezes para obter 10 números aleatórios. Aqui está a sequência de números aleatórios gerados usando o algoritmo Blum Blum Shub com os valores do exemplo:**\n",
    "\n",
    "**289, 253306, 14107, 23546, 67740, 144593, 79829, 46219, 132936, 9863**\n",
    "\n",
    "**Qual foi a sua sequência?**\n",
    "\n"
   ]
  },
  {
   "cell_type": "code",
   "execution_count": 1,
   "metadata": {
    "collapsed": false
   },
   "outputs": [
    {
     "name": "stdout",
     "output_type": "stream",
     "text": [
      "3\n",
      "3\n"
     ]
    }
   ],
   "source": [
    "# (a) Escolha dois números primos grandes p e q, onde p e q sejam congruentes a 3 mod 4 e não tenham fatores primos comuns. Por exemplo, você pode escolher p = 499 e \n",
    "# 1) p e q devem ser congruentes a 3 (mod 4). Isso significa que o resto da divisão de p e q por 4 deve ser igual a 3.\n",
    "# 2) p e q não devem ter fatores primos comuns. Isso significa que eles não devem ter nenhum divisor primo em comum.\n",
    "#q = 503.\n",
    "print(683 % 4)\n",
    "print(1151 % 4)\n",
    "\n",
    "p = 683\n",
    "q = 1151\n",
    "#print(\"499 % 4 = \", 499 % 4)\n",
    "#print(\"503 % 4 = \", 503 % 4)"
   ]
  },
  {
   "cell_type": "code",
   "execution_count": 20,
   "metadata": {
    "collapsed": false
   },
   "outputs": [
    {
     "data": {
      "text/plain": [
       "786133"
      ]
     },
     "execution_count": 20,
     "metadata": {
     },
     "output_type": "execute_result"
    }
   ],
   "source": [
    "#(b) Calcule n = p ∗ q. Neste caso, n seria igual a 499 ∗ 503 = 250997.\n",
    "\n",
    "n = p * q ; n"
   ]
  },
  {
   "cell_type": "code",
   "execution_count": 33,
   "metadata": {
    "collapsed": false
   },
   "outputs": [
   ],
   "source": [
    "#(c) Escolha um número inteiro s entre 1 e n − 1 que seja co-primo com n. Por exemplo, você pode escolher s = 17.\n",
    "\n",
    "s = 63"
   ]
  },
  {
   "cell_type": "code",
   "execution_count": 34,
   "metadata": {
    "collapsed": false
   },
   "outputs": [
    {
     "data": {
      "text/plain": [
       "3969"
      ]
     },
     "execution_count": 34,
     "metadata": {
     },
     "output_type": "execute_result"
    }
   ],
   "source": [
    "# (d) Calcule o valor inicial x0 = (s^2) mod n. Neste caso, x0 seria igual a (172) mod 250997 = 289.\n",
    "\n",
    "x0 = (s**2) % n ; x0"
   ]
  },
  {
   "cell_type": "code",
   "execution_count": 36,
   "metadata": {
    "collapsed": false
   },
   "outputs": [
    {
     "data": {
      "text/plain": [
       "30301"
      ]
     },
     "execution_count": 36,
     "metadata": {
     },
     "output_type": "execute_result"
    }
   ],
   "source": [
    "# (e) Agora, vamos gerar uma sequência de números aleatórios usando o algoritmo Blum Blum Shub. Para gerar cada número da sequência, use a seguinte fórmula: xi = (x²i−1) mod n.\n",
    "\n",
    "xi = (x0**2) % n ; xi"
   ]
  },
  {
   "cell_type": "code",
   "execution_count": 40,
   "metadata": {
    "collapsed": false
   },
   "outputs": [
    {
     "name": "stdout",
     "output_type": "stream",
     "text": [
      "3969,30301,733390,485495,709901,222688,675704,68945,452907,639225,"
     ]
    }
   ],
   "source": [
    "# (f) Execute a fórmula várias vezes para gerar uma sequência de números aleatórios. Por exemplo, você pode executar a fórmula 10 vezes para \n",
    "# obter 10 números aleatórios. Aqui está a sequência de números aleatórios gerados usando o algoritmo Blum Blum Shub com os valores do exemplo:\n",
    "# 289, 253306, 14107, 23546, 67740, 144593, 79829, 46219, 132936, 9863\n",
    "# Qual foi a sua sequência?\n",
    "x = x0\n",
    "for i in range(10):\n",
    "    print(x, end=\",\")\n",
    "    x = (x**2) % n"
   ]
  },
  {
   "cell_type": "markdown",
   "metadata": {
    "collapsed": false
   },
   "source": [
    "<span style='font-size:x-large'><span style='color:#673ab7'>BlumBlumShub</span></span>\n"
   ]
  },
  {
   "cell_type": "code",
   "execution_count": 10,
   "metadata": {
    "collapsed": false
   },
   "outputs": [
   ],
   "source": [
    "def BlumBlumShub_Initialize(bitlen, seed):\n",
    "    r\"\"\"\n",
    "    Inicializa um estado do RNG Blum-Blum-Shub.²\n",
    "    Um estado BBS-RNG é uma lista com dois elementos:\n",
    "    [N, X]\n",
    "    N é 2*bitlen módulo (produto de dois primos)\n",
    "    X é o estado atual do PRNG.³\n",
    "    ENTRADA:\n",
    "        bitlen – o tamanho em bits de cada um dos fatores primos de n\n",
    "        seed – um inteiro aleatório grande para iniciar o prng\n",
    "    SAÍDA:\n",
    "        state – um estado interno do BBS-RNG\n",
    "    \"\"\"\n",
    "    # note que, criptograficamente, este não é o modo mais seguro\n",
    "    # de gerar primos, pois não sabemos como a função interna\n",
    "    # random_prime do Sage funciona.\n",
    "    p = 3;\n",
    "    while (p < 2^(bitlen-1)) or (3 != (p % 4)):\n",
    "        p = random_prime(2^bitlen);\n",
    "    \n",
    "    q = 3;\n",
    "    while (q < 2^(bitlen-1)) or (3 != (q % 4)):\n",
    "        q = random_prime(2^bitlen);\n",
    "    \n",
    "    N = p*q;\n",
    "    X = (seed^2 % N)\n",
    "    state = [N, X]\n",
    "    \n",
    "    return state;"
   ]
  },
  {
   "cell_type": "code",
   "execution_count": 47,
   "metadata": {
    "collapsed": false
   },
   "outputs": [
    {
     "data": {
      "text/plain": [
       "[713, 441]"
      ]
     },
     "execution_count": 47,
     "metadata": {
     },
     "output_type": "execute_result"
    }
   ],
   "source": [
    "state = BlumBlumShub_Initialize(5, 250997) ; state"
   ]
  },
  {
   "cell_type": "code",
   "execution_count": 42,
   "metadata": {
    "collapsed": false
   },
   "outputs": [
   ],
   "source": [
    "def BlumBlumShub_Generate(num_bits, state):\n",
    "    r\"\"\"\n",
    "    Função de geração de número aleatório Blum-Blum-Shum.\n",
    "    ENTRADA:\n",
    "        num_bits – o número de bits (iterações) a ser\n",
    "        gerado com este RNG.\n",
    "        state – um estado interno do BBS-RNG (uma lista\n",
    "        [N, X].)\n",
    "    SAÍDA:\n",
    "        random_bits – uma lista de tamanho num_bits de bits aleatórios.\n",
    "    \"\"\"\n",
    "    \n",
    "    random_bits = [];\n",
    "    N = state[0]\n",
    "    X = state[1]\n",
    "    for j in range(num_bits):\n",
    "        X = X^2 % N\n",
    "        random_bits.append(X % 2)\n",
    "    # atualiza o estado interno\n",
    "    state[1] = X;\n",
    "    return random_bits;"
   ]
  },
  {
   "cell_type": "code",
   "execution_count": 48,
   "metadata": {
    "collapsed": false
   },
   "outputs": [
    {
     "data": {
      "text/plain": [
       "[1, 1, 0, 0, 0, 0, 1, 1, 1, 0]"
      ]
     },
     "execution_count": 48,
     "metadata": {
     },
     "output_type": "execute_result"
    }
   ],
   "source": [
    "x = BlumBlumShub_Generate(10, state) ; x"
   ]
  },
  {
   "cell_type": "code",
   "execution_count": 0,
   "metadata": {
    "collapsed": false
   },
   "outputs": [
   ],
   "source": [
   ]
  }
 ],
 "metadata": {
  "kernelspec": {
   "argv": [
    "sage-10.0",
    "--python",
    "-m",
    "sage.repl.ipython_kernel",
    "--matplotlib=inline",
    "-f",
    "{connection_file}"
   ],
   "display_name": "SageMath 10.0",
   "env": {
   },
   "language": "sagemath",
   "metadata": {
    "cocalc": {
     "description": "Open-source mathematical software system",
     "priority": 10,
     "url": "https://www.sagemath.org/"
    }
   },
   "name": "sage-10.0",
   "resource_dir": "/ext/jupyter/kernels/sage-10.0"
  },
  "language_info": {
   "codemirror_mode": {
    "name": "ipython",
    "version": 3
   },
   "file_extension": ".py",
   "mimetype": "text/x-python",
   "name": "python",
   "nbconvert_exporter": "python",
   "pygments_lexer": "ipython3",
   "version": "3.11.1"
  }
 },
 "nbformat": 4,
 "nbformat_minor": 4
}