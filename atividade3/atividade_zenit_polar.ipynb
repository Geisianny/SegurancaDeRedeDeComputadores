{
 "cells": [
  {
   "cell_type": "markdown",
   "metadata": {
    "collapsed": false
   },
   "source": [
    "<span style='font-size:large'>**ZENIT POLAR**</span>\n",
    "\n"
   ]
  },
  {
   "cell_type": "code",
   "execution_count": 70,
   "metadata": {
    "collapsed": false
   },
   "outputs": [
    {
     "name": "stdout",
     "output_type": "stream",
     "text": [
      "zenitpolar polar lista popzopo\n",
      "polarzenit zenit nasri zezpezeiii\n"
     ]
    }
   ],
   "source": [
    "zenit = [\"z\", \"e\", \"n\", \"i\", \"t\"]\n",
    "polar = [\"p\", \"o\", \"l\", \"a\", \"r\"]\n",
    "\n",
    "def zenit_polar(text):\n",
    "    result = \"\"\n",
    "    text = text.lower()\n",
    "    for c in text:\n",
    "        if(c in zenit):\n",
    "            result += polar[zenit.index(c)]\n",
    "        elif(c in polar):\n",
    "            result += zenit[polar.index(c)]\n",
    "        else:\n",
    "            result += c\n",
    "        \n",
    "    print(result.lower())\n",
    "            \n",
    "        \n",
    "texto_claro = \"polarzenit zenit nasri zezpeze\"        \n",
    "zenit_polar(texto_claro)\n",
    "\n",
    "texto_escuro = \"zenitpolar polar lista popzopoAAA\"\n",
    "zenit_polar(texto_escuro)\n"
   ]
  }
 ],
 "metadata": {
  "kernelspec": {
   "argv": [
    "/usr/bin/python3",
    "-m",
    "ipykernel",
    "--HistoryManager.enabled=False",
    "--matplotlib=inline",
    "-c",
    "%config InlineBackend.figure_formats = set(['retina'])\nimport matplotlib; matplotlib.rcParams['figure.figsize'] = (12, 7)",
    "-f",
    "{connection_file}"
   ],
   "display_name": "Python 3 (system-wide)",
   "env": {
   },
   "language": "python",
   "metadata": {
    "cocalc": {
     "description": "Python 3 programming language",
     "priority": 100,
     "url": "https://www.python.org/"
    }
   },
   "name": "python3",
   "resource_dir": "/ext/jupyter/kernels/python3"
  },
  "language_info": {
   "codemirror_mode": {
    "name": "ipython",
    "version": 3
   },
   "file_extension": ".py",
   "mimetype": "text/x-python",
   "name": "python",
   "nbconvert_exporter": "python",
   "pygments_lexer": "ipython3",
   "version": "3.10.6"
  }
 },
 "nbformat": 4,
 "nbformat_minor": 4
}